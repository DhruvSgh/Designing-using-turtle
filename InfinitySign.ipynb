{
 "cells": [
  {
   "cell_type": "code",
   "execution_count": 1,
   "id": "df992f7a",
   "metadata": {},
   "outputs": [],
   "source": [
    "from turtle import *"
   ]
  },
  {
   "cell_type": "code",
   "execution_count": 2,
   "id": "23b2c371",
   "metadata": {},
   "outputs": [],
   "source": [
    "bgcolor(\"black\")\n",
    "color(\"yellow\")\n",
    "speed(11)\n",
    "right(45)\n",
    "for i in range (150):\n",
    "    circle(30)\n",
    "    if 7<i<62:\n",
    "        left(5)\n",
    "    if 80<i<133:\n",
    "        right(5)\n",
    "    if i<80:\n",
    "        forward(10)\n",
    "    else:\n",
    "        forward(5)"
   ]
  },
  {
   "cell_type": "code",
   "execution_count": null,
   "id": "38061919",
   "metadata": {},
   "outputs": [],
   "source": []
  }
 ],
 "metadata": {
  "kernelspec": {
   "display_name": "Python 3",
   "language": "python",
   "name": "python3"
  },
  "language_info": {
   "codemirror_mode": {
    "name": "ipython",
    "version": 3
   },
   "file_extension": ".py",
   "mimetype": "text/x-python",
   "name": "python",
   "nbconvert_exporter": "python",
   "pygments_lexer": "ipython3",
   "version": "3.8.8"
  }
 },
 "nbformat": 4,
 "nbformat_minor": 5
}
