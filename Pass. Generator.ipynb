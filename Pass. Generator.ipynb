{
 "cells": [
  {
   "cell_type": "code",
   "execution_count": 1,
   "id": "a7922f11",
   "metadata": {},
   "outputs": [],
   "source": [
    "import string as s\n",
    "from random import *"
   ]
  },
  {
   "cell_type": "code",
   "execution_count": 2,
   "id": "e60f1113",
   "metadata": {},
   "outputs": [
    {
     "name": "stdout",
     "output_type": "stream",
     "text": [
      "Generated Password is: MZ]dq,[;S\n"
     ]
    }
   ],
   "source": [
    "ch= s.ascii_letters + s.digits + s.punctuation\n",
    "password = \"\".join(choice(ch) for j in range(randint(8,16)))\n",
    "print(\"Generated Password is: \"+ password)"
   ]
  },
  {
   "cell_type": "code",
   "execution_count": null,
   "id": "0f58f525",
   "metadata": {},
   "outputs": [],
   "source": []
  }
 ],
 "metadata": {
  "kernelspec": {
   "display_name": "Python 3",
   "language": "python",
   "name": "python3"
  },
  "language_info": {
   "codemirror_mode": {
    "name": "ipython",
    "version": 3
   },
   "file_extension": ".py",
   "mimetype": "text/x-python",
   "name": "python",
   "nbconvert_exporter": "python",
   "pygments_lexer": "ipython3",
   "version": "3.8.8"
  }
 },
 "nbformat": 4,
 "nbformat_minor": 5
}
