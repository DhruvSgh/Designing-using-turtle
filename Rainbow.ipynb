{
 "cells": [
  {
   "cell_type": "code",
   "execution_count": 1,
   "id": "4624aced",
   "metadata": {},
   "outputs": [],
   "source": [
    "import turtle as t\n",
    "import colorsys"
   ]
  },
  {
   "cell_type": "code",
   "execution_count": 3,
   "id": "137ea434",
   "metadata": {},
   "outputs": [],
   "source": [
    "t.speed(0)\n",
    "t.hideturtle()\n",
    "t.bgcolor(\"black\")\n",
    "t.title(\"Rainbow\")\n",
    "t.setup(700,700)\n",
    "colors=49\n",
    "radius=300\n",
    "penwidth=20*7/colors\n",
    "hue=0\n",
    "\n",
    "def draw(x,y,r,pensize,color):\n",
    "    t.up()\n",
    "    t.goto(x+r,y)\n",
    "    t.down()\n",
    "    t.seth(90)\n",
    "    t.pensize(pensize)\n",
    "    t.pencolor(color)\n",
    "    t.circle(r,180)\n",
    "\n",
    "for i in range(colors):\n",
    "     (r,g,b)=colorsys.hsv_to_rgb(hue,1,1)\n",
    "     draw(0,-100,radius,penwidth,(r,g,b))\n",
    "     radius-=(penwidth-1)\n",
    "     hue+=0.9/colors"
   ]
  },
  {
   "cell_type": "code",
   "execution_count": null,
   "id": "76d8c65b",
   "metadata": {},
   "outputs": [],
   "source": []
  }
 ],
 "metadata": {
  "kernelspec": {
   "display_name": "Python 3",
   "language": "python",
   "name": "python3"
  },
  "language_info": {
   "codemirror_mode": {
    "name": "ipython",
    "version": 3
   },
   "file_extension": ".py",
   "mimetype": "text/x-python",
   "name": "python",
   "nbconvert_exporter": "python",
   "pygments_lexer": "ipython3",
   "version": "3.8.8"
  }
 },
 "nbformat": 4,
 "nbformat_minor": 5
}
