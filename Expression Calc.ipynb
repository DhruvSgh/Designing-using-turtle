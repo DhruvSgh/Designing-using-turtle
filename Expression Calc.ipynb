{
 "cells": [
  {
   "cell_type": "code",
   "execution_count": 1,
   "id": "376b7044",
   "metadata": {},
   "outputs": [
    {
     "name": "stdout",
     "output_type": "stream",
     "text": [
      "Enter Expression: 120*54*96\n"
     ]
    }
   ],
   "source": [
    "x = input (\"Enter Expression: \")"
   ]
  },
  {
   "cell_type": "code",
   "execution_count": 2,
   "id": "3c6b166f",
   "metadata": {},
   "outputs": [
    {
     "name": "stdout",
     "output_type": "stream",
     "text": [
      "622080\n"
     ]
    }
   ],
   "source": [
    "print(eval(x))"
   ]
  },
  {
   "cell_type": "code",
   "execution_count": null,
   "id": "17cfb20a",
   "metadata": {},
   "outputs": [],
   "source": []
  }
 ],
 "metadata": {
  "kernelspec": {
   "display_name": "Python 3",
   "language": "python",
   "name": "python3"
  },
  "language_info": {
   "codemirror_mode": {
    "name": "ipython",
    "version": 3
   },
   "file_extension": ".py",
   "mimetype": "text/x-python",
   "name": "python",
   "nbconvert_exporter": "python",
   "pygments_lexer": "ipython3",
   "version": "3.8.8"
  }
 },
 "nbformat": 4,
 "nbformat_minor": 5
}
